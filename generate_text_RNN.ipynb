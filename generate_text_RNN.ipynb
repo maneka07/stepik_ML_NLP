{
 "cells": [
  {
   "cell_type": "markdown",
   "id": "7af587e2",
   "metadata": {},
   "source": [
    "<font size=6>\n",
    "Using the standard modele torch.nn.RNN to generate a text. \n",
    "</font>"
   ]
  },
  {
   "cell_type": "code",
   "execution_count": null,
   "id": "0b005e07",
   "metadata": {},
   "outputs": [],
   "source": [
    "import torch\n",
    "import torch.nn as nn\n",
    "import numpy as np\n",
    "from nltk import word_tokenize"
   ]
  },
  {
   "cell_type": "markdown",
   "id": "a0f6855b",
   "metadata": {},
   "source": [
    "<font size=6>\n",
    "Preprocess the data.\n",
    "</font>"
   ]
  },
  {
   "cell_type": "code",
   "execution_count": 2,
   "id": "31279de8",
   "metadata": {},
   "outputs": [],
   "source": [
    "with open('./data/author_quotes.txt', 'rt', newline='\\n') as f:\n",
    "    text_data = f.readlines()\n",
    "text_data = [q.rstrip('\\n') for q in text_data]"
   ]
  },
  {
   "cell_type": "code",
   "execution_count": 3,
   "id": "ce9f938d",
   "metadata": {},
   "outputs": [
    {
     "name": "stdout",
     "output_type": "stream",
     "text": [
      "Vocab has 85 unique characters\n"
     ]
    }
   ],
   "source": [
    "id2char = list(set(' '.join(text_data)))\n",
    "char2id = {v: i for i, v in enumerate(id2char)}\n",
    "PAD_VALUE = char2id[' ']\n",
    "MAX_SEQ_LEN = max([len(l) for l in text_data])\n",
    "print(f\"Vocab has {len(id2char)} unique characters\")"
   ]
  },
  {
   "cell_type": "code",
   "execution_count": 4,
   "id": "05c60808",
   "metadata": {},
   "outputs": [],
   "source": [
    "def vectorize(text_data, char2id, pad_value, max_seq_len):\n",
    "    '''Now create input vectors and target vectors. \n",
    "    From input sequences delete the last character, we do not need to feed it into \n",
    "    the network. For the target sequence remove the first character, because we start predicting\n",
    "    from the second character in the sequence'''\n",
    "    text_in = [list(l)[:-1] for l in text_data]\n",
    "    text_out = [list(l)[1:] for l in text_data]\n",
    "    num_samples = len(text_data)\n",
    "    #vectorize\n",
    "    input_vect = torch.full((num_samples, max_seq_len), pad_value, dtype=torch.long)\n",
    "    target_vect = torch.full((num_samples, max_seq_len), pad_value, dtype=torch.long)\n",
    "    for i, line in enumerate(text_in):\n",
    "        for j, ch in enumerate(line):\n",
    "            input_vect[i][j] = char2id[ch]\n",
    "        target_vect[i][:-1] = input_vect[i][1:] \n",
    "        target_vect[i][len(text_out[i])-1] = char2id[text_out[i][-1]]\n",
    "    return input_vect, target_vect"
   ]
  },
  {
   "cell_type": "code",
   "execution_count": 5,
   "id": "23c087f0",
   "metadata": {},
   "outputs": [],
   "source": [
    "input_vect, target_vect = vectorize(text_data, char2id, char2id[' '], MAX_SEQ_LEN)"
   ]
  },
  {
   "cell_type": "markdown",
   "id": "7d02b6ce",
   "metadata": {},
   "source": [
    "<font size=6>\n",
    "RNN model\n",
    "</font>"
   ]
  },
  {
   "cell_type": "code",
   "execution_count": 6,
   "id": "cf5a1365",
   "metadata": {},
   "outputs": [],
   "source": [
    "class charRNN(nn.Module):\n",
    "    def __init__(self, char_vocab_len, emb_size=16, num_layers=1, hid_state_size=64):\n",
    "        super().__init__()\n",
    "        self.num_rnn_layers = num_layers\n",
    "        self.hid_state_size = hid_state_size\n",
    "        self.emb = nn.Embedding(char_vocab_len, emb_size)\n",
    "        self.rnn = nn.RNN(emb_size, hid_state_size, num_layers=num_layers, batch_first=True)\n",
    "        self.out = nn.Linear(hid_state_size, char_vocab_len)\n",
    "    \n",
    "    def forward(self, x, prev_h=None):\n",
    "        batch_sz, seq_len = x.shape\n",
    "        x = self.emb(x)  # batch_sz x MAX_SEQ_LEN x emb_sz\n",
    "        if prev_h == None:\n",
    "            #init h0\n",
    "            prev_h = self.get_init_state(batch_sz)\n",
    "        features, hidden = self.rnn(x, prev_h) #features of size batch_sz x MAX_SEQ_LEN x hid_state_size      \n",
    "        logits = self.out(features)  #batch_sz x MAX_SEQ_LEN x char_vocab_len\n",
    "        logits = pred.view(batch_sz*seq_len, -1)\n",
    "        return logits, hidden\n",
    "    def get_init_state(self, batch_size):\n",
    "        return torch.zeros(self.num_rnn_layers, batch_size, self.hid_state_size)\n",
    "\n",
    "ch_model = charRNN(len(char2id), num_layers=1)"
   ]
  },
  {
   "cell_type": "markdown",
   "id": "27e603e6",
   "metadata": {},
   "source": [
    "<font size=6>\n",
    "Helper functions\n",
    "</font>"
   ]
  },
  {
   "cell_type": "code",
   "execution_count": 86,
   "id": "f64cc90b",
   "metadata": {},
   "outputs": [],
   "source": [
    "def train(model, input_vect, target_vect, lr=0.01, n_epochs=10, batch_size=128, max_num_batches=0):\n",
    "    import time\n",
    "    import matplotlib.pyplot as plt\n",
    "    from IPython.display import clear_output\n",
    "    device = 'cuda' if torch.cuda.is_available() else 'cpu'\n",
    "    if batch_size > len(input_vect):\n",
    "        batch_size = len(input_vect)\n",
    "    #remove the last character from input (nothing to predict for it) and \n",
    "    #the first character from output (since the first char we predict is the second character\n",
    "    #in the sequence)\n",
    "    dataset = torch.utils.data.TensorDataset(input_vect,\n",
    "                                             target_vect)\n",
    "    dataloader = torch.utils.data.DataLoader(dataset, batch_size=batch_size, shuffle=True, drop_last=True)\n",
    "    opt = torch.optim.Adam(model.parameters(), lr = lr)\n",
    "    loss_fun = nn.CrossEntropyLoss()\n",
    "    model.to(device)\n",
    "    model.train()\n",
    "    history = []\n",
    "    for epoch in range(n_epochs):\n",
    "        t_beg = time.perf_counter()\n",
    "        mean_loss = 0\n",
    "        nbatches = 0\n",
    "        for batch_x, batch_y in dataloader:\n",
    "            model.zero_grad()\n",
    "            batch_x, batch_y = batch_x.to(device), batch_y.to(device)\n",
    "            pred, _ = model(batch_x)\n",
    "            loss = loss_fun(pred, batch_y.view(-1))\n",
    "            mean_loss += float(loss)\n",
    "            nbatches +=1\n",
    "            loss.backward()\n",
    "            opt.step()\n",
    "            if max_num_batches and nbatches == max_num_batches:\n",
    "                break\n",
    "        print(f\"epoch {epoch} loss {mean_loss/nbatches}, epoch time {time.perf_counter()-t_beg}\")\n",
    "     # visualizing training process\n",
    "        history.append(mean_loss)\n",
    "    plt.plot(history,label='loss')\n",
    "    plt.legend()\n",
    "    plt.show()\n",
    "            \n",
    "    return model\n",
    "\n",
    "def predict_char(model, chars, char2id, id2char, temperature, hidden = None):\n",
    "    vect_data = torch.tensor([[char2id[ch] for ch in chars]])\n",
    "    #print(vect_data.shape)\n",
    "    #pass the seed sequence first to get the hidden state\n",
    "    logits, hidden = model(vect_data, prev_h=hidden) \n",
    "    p_next = nn.functional.softmax(logits / temperature, dim=-1).data.numpy()[-1, :]\n",
    "    #choose next token with probability distribution\n",
    "    char_ind = np.random.choice(len(char2id), p=p_next)\n",
    "    return id2char[char_ind], hidden\n",
    "\n",
    "def generate_sequence(model, char2id, id2char, seed_seq = \"hi\", seq_len = MAX_SEQ_LEN, temperature=1.0):\n",
    "    if seq_len <= len(seed_seq):\n",
    "        return seed_seq \n",
    "    model.eval()\n",
    "    #first pass the seed sequence except for the last char through RNN to get the last hidden state\n",
    "    chars_vect = torch.tensor([[char2id[ch] for ch in seed_seq[:-1]]], dtype=torch.long)\n",
    "    _, hidden = model(chars_vect)\n",
    "    #now pass the last character from the list and start generating next characters\n",
    "    chars = list(seed_seq)\n",
    "    for _ in range(seq_len - len(seed_seq)):\n",
    "        next_char, hidden = predict_char(model, chars[-1], char2id, id2char, temperature, hidden=hidden)\n",
    "        chars.append(next_char)\n",
    "    return ''.join(chars)\n",
    "    "
   ]
  },
  {
   "cell_type": "code",
   "execution_count": 8,
   "id": "eb38167c",
   "metadata": {
    "scrolled": true
   },
   "outputs": [
    {
     "name": "stdout",
     "output_type": "stream",
     "text": [
      "epoch 0 loss 1.0698981297016144, epoch time 49.68379279999999\n",
      "epoch 1 loss 0.776541730761528, epoch time 44.90064270000002\n",
      "epoch 2 loss 0.7072157955169678, epoch time 46.150713999999994\n",
      "epoch 3 loss 0.6666237545013428, epoch time 48.47750550000001\n",
      "epoch 4 loss 0.6493605411052704, epoch time 45.35900369999996\n",
      "epoch 5 loss 0.6259592980146408, epoch time 47.39145289999999\n",
      "epoch 6 loss 0.6123793566226959, epoch time 43.0065745\n",
      "epoch 7 loss 0.6056795251369477, epoch time 44.937648300000035\n",
      "epoch 8 loss 0.590649824142456, epoch time 44.054019100000005\n",
      "epoch 9 loss 0.5859751641750336, epoch time 44.6017425\n",
      "epoch 10 loss 0.5811545383930207, epoch time 43.59181530000001\n",
      "epoch 11 loss 0.5817364001274109, epoch time 47.05569400000002\n",
      "epoch 12 loss 0.576561582684517, epoch time 44.972512800000004\n",
      "epoch 13 loss 0.5730481198430062, epoch time 45.21457829999997\n",
      "epoch 14 loss 0.5708137321472168, epoch time 46.55987469999991\n",
      "epoch 15 loss 0.5668684715032577, epoch time 45.83301140000003\n",
      "epoch 16 loss 0.5600125443935394, epoch time 44.73045830000001\n",
      "epoch 17 loss 0.5666816198825836, epoch time 45.97059289999993\n",
      "epoch 18 loss 0.5665000981092453, epoch time 58.31590720000008\n",
      "epoch 19 loss 0.560018302500248, epoch time 46.81250449999993\n"
     ]
    },
    {
     "data": {
      "image/png": "[encoded data removed]",
      "text/plain": [
       "<Figure size 432x288 with 1 Axes>"
      ]
     },
     "metadata": {
      "needs_background": "light"
     },
     "output_type": "display_data"
    }
   ],
   "source": [
    "#ch_model.load_state_dict(torch.load('./models/RNN-2022-07-05.model', map_location=torch.device('cpu')))\n",
    "ch_model = train(ch_model, input_vect, target_vect, lr=0.01, n_epochs=20, max_num_batches=100)\n",
    "#torch.save(ch_model.state_dict(), './models/char_rnn.model')"
   ]
  },
  {
   "cell_type": "code",
   "execution_count": 9,
   "id": "022a4687",
   "metadata": {},
   "outputs": [],
   "source": [
    "#torch.save(ch_model.state_dict(), './models/char_rnn.model')"
   ]
  },
  {
   "cell_type": "code",
   "execution_count": 90,
   "id": "7fb40f1e",
   "metadata": {
    "scrolled": true
   },
   "outputs": [
    {
     "name": "stdout",
     "output_type": "stream",
     "text": [
      "themm of the a thind to who have love. I like or f\n"
     ]
    }
   ],
   "source": [
    "print(generate_sequence(ch_model, char2id, id2char, seed_seq=\"the\", seq_len=50, temperature=0.7))"
   ]
  },
  {
   "cell_type": "code",
   "execution_count": null,
   "id": "8136411d",
   "metadata": {},
   "outputs": [],
   "source": [
    "Conclusion: it generates some gibberish. This can probably be improved by getting a larger dataset,\n",
    "    more training time and maybe using better e"
   ]
  }
 ],
 "metadata": {
  "kernelspec": {
   "display_name": "nlpenv2",
   "language": "python",
   "name": "nlpenv2"
  },
  "language_info": {
   "codemirror_mode": {
    "name": "ipython",
    "version": 3
   },
   "file_extension": ".py",
   "mimetype": "text/x-python",
   "name": "python",
   "nbconvert_exporter": "python",
   "pygments_lexer": "ipython3",
   "version": "3.9.13"
  }
 },
 "nbformat": 4,
 "nbformat_minor": 5
}
